{
 "cells": [
  {
   "cell_type": "markdown",
   "source": [
    "# Faris Abu Farha\n",
    "# 1200546"
   ],
   "metadata": {
    "collapsed": false
   },
   "id": "6dd811d06ef2f1c9"
  },
  {
   "cell_type": "markdown",
   "source": [
    "# 0. Import the necessary libraries"
   ],
   "metadata": {
    "collapsed": false
   },
   "id": "ae8cfeada341b94a"
  },
  {
   "cell_type": "code",
   "execution_count": 1,
   "outputs": [],
   "source": [
    "import pandas as pd\n",
    "import numpy as np\n",
    "import matplotlib.pyplot as plt\n"
   ],
   "metadata": {
    "collapsed": false,
    "ExecuteTime": {
     "end_time": "2023-11-14T22:57:16.875095200Z",
     "start_time": "2023-11-14T22:57:12.411199281Z"
    }
   },
   "id": "initial_id"
  },
  {
   "cell_type": "markdown",
   "source": [
    "## 1-Read the dataset and examine how many features and examples does it have?"
   ],
   "metadata": {
    "collapsed": false
   },
   "id": "25ccdbe488ae7ae7"
  },
  {
   "cell_type": "code",
   "execution_count": 3,
   "outputs": [
    {
     "name": "stdout",
     "output_type": "stream",
     "text": [
      "<class 'pandas.core.frame.DataFrame'>\n",
      "RangeIndex: 398 entries, 0 to 397\n",
      "Data columns (total 8 columns):\n",
      " #   Column        Non-Null Count  Dtype  \n",
      "---  ------        --------------  -----  \n",
      " 0   mpg           398 non-null    float64\n",
      " 1   cylinders     398 non-null    int64  \n",
      " 2   displacement  398 non-null    float64\n",
      " 3   horsepower    392 non-null    float64\n",
      " 4   weight        398 non-null    int64  \n",
      " 5   acceleration  398 non-null    float64\n",
      " 6   model_year    398 non-null    int64  \n",
      " 7   origin        396 non-null    object \n",
      "dtypes: float64(4), int64(3), object(1)\n",
      "memory usage: 25.0+ KB\n"
     ]
    }
   ],
   "source": [
    "df = pd.read_csv('data/cars.csv')\n",
    "df.info()"
   ],
   "metadata": {
    "collapsed": false,
    "ExecuteTime": {
     "end_time": "2023-11-14T23:05:54.655931251Z",
     "start_time": "2023-11-14T23:05:54.475360317Z"
    }
   },
   "id": "c6fdadf87752f4ae"
  },
  {
   "cell_type": "markdown",
   "source": [
    "There are 8 features and 398 examples"
   ],
   "metadata": {
    "collapsed": false
   },
   "id": "76bc0110cf07b18e"
  },
  {
   "cell_type": "markdown",
   "source": [
    "## 2- Are there features with missing values? How many missing values are there in each one?"
   ],
   "metadata": {
    "collapsed": false
   },
   "id": "38384f4875946d7e"
  },
  {
   "cell_type": "code",
   "execution_count": 12,
   "outputs": [
    {
     "name": "stdout",
     "output_type": "stream",
     "text": [
      "mpg             0\n",
      "cylinders       0\n",
      "displacement    0\n",
      "horsepower      6\n",
      "weight          0\n",
      "acceleration    0\n",
      "model_year      0\n",
      "origin          2\n",
      "dtype: int64\n"
     ]
    }
   ],
   "source": [
    "print(df.isnull().sum())"
   ],
   "metadata": {
    "collapsed": false,
    "ExecuteTime": {
     "end_time": "2023-11-14T23:13:55.668715124Z",
     "start_time": "2023-11-14T23:13:55.649750062Z"
    }
   },
   "id": "eb281452a296bcfa"
  },
  {
   "cell_type": "markdown",
   "source": [
    "from this output we can see how many missing values are there in each feature"
   ],
   "metadata": {
    "collapsed": false
   },
   "id": "15ad52f61af9e620"
  },
  {
   "cell_type": "markdown",
   "source": [
    "## 3- Fill the missing values in each feature using a proper imputation method (for\n",
    "example: fill with mean, median, or mode) "
   ],
   "metadata": {
    "collapsed": false
   },
   "id": "b2f03db83c1620cd"
  },
  {
   "cell_type": "code",
   "execution_count": 13,
   "outputs": [],
   "source": [
    "df_mean_filled = df.copy()\n",
    "df_median_filled = df.copy()"
   ],
   "metadata": {
    "collapsed": false,
    "ExecuteTime": {
     "end_time": "2023-11-14T23:42:26.584905585Z",
     "start_time": "2023-11-14T23:42:26.558376346Z"
    }
   },
   "id": "6445c10523a6121b"
  },
  {
   "cell_type": "code",
   "execution_count": null,
   "outputs": [],
   "source": [],
   "metadata": {
    "collapsed": false
   },
   "id": "f5cc1e7b3baa39fd"
  },
  {
   "cell_type": "code",
   "execution_count": null,
   "outputs": [],
   "source": [],
   "metadata": {
    "collapsed": false
   },
   "id": "5d1ba652fc5d473c"
  },
  {
   "cell_type": "code",
   "execution_count": null,
   "outputs": [],
   "source": [],
   "metadata": {
    "collapsed": false
   },
   "id": "ac532c06f5455004"
  }
 ],
 "metadata": {
  "kernelspec": {
   "display_name": "Python 3",
   "language": "python",
   "name": "python3"
  },
  "language_info": {
   "codemirror_mode": {
    "name": "ipython",
    "version": 2
   },
   "file_extension": ".py",
   "mimetype": "text/x-python",
   "name": "python",
   "nbconvert_exporter": "python",
   "pygments_lexer": "ipython2",
   "version": "2.7.6"
  }
 },
 "nbformat": 4,
 "nbformat_minor": 5
}
